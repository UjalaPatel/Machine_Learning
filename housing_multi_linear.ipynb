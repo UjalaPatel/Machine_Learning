{
  "nbformat": 4,
  "nbformat_minor": 0,
  "metadata": {
    "kernelspec": {
      "display_name": "Python 3",
      "language": "python",
      "name": "python3"
    },
    "language_info": {
      "codemirror_mode": {
        "name": "ipython",
        "version": 3
      },
      "file_extension": ".py",
      "mimetype": "text/x-python",
      "name": "python",
      "nbconvert_exporter": "python",
      "pygments_lexer": "ipython3",
      "version": "3.8.3"
    },
    "colab": {
      "name": "housing_multi_linear.ipynb",
      "provenance": [],
      "include_colab_link": true
    }
  },
  "cells": [
    {
      "cell_type": "markdown",
      "metadata": {
        "id": "view-in-github",
        "colab_type": "text"
      },
      "source": [
        "<a href=\"https://colab.research.google.com/github/UjalaPatel/Machine_Learning/blob/master/housing_multi_linear.ipynb\" target=\"_parent\"><img src=\"https://colab.research.google.com/assets/colab-badge.svg\" alt=\"Open In Colab\"/></a>"
      ]
    },
    {
      "cell_type": "code",
      "metadata": {
        "id": "7Favc22jOwed"
      },
      "source": [
        "import pandas as pd\n",
        "import numpy as np"
      ],
      "execution_count": null,
      "outputs": []
    },
    {
      "cell_type": "code",
      "metadata": {
        "id": "G0HYbVhlOwe1",
        "outputId": "d4c5e61f-0a37-471e-a6f8-9802e7e92209"
      },
      "source": [
        "data = pd.read_fwf(\"D:\\Study\\Sem9\\ML\\Practice\\Internal_Practice\\housing.txt\")\n",
        "data.head()"
      ],
      "execution_count": null,
      "outputs": [
        {
          "output_type": "execute_result",
          "data": {
            "text/html": [
              "<div>\n",
              "<style scoped>\n",
              "    .dataframe tbody tr th:only-of-type {\n",
              "        vertical-align: middle;\n",
              "    }\n",
              "\n",
              "    .dataframe tbody tr th {\n",
              "        vertical-align: top;\n",
              "    }\n",
              "\n",
              "    .dataframe thead th {\n",
              "        text-align: right;\n",
              "    }\n",
              "</style>\n",
              "<table border=\"1\" class=\"dataframe\">\n",
              "  <thead>\n",
              "    <tr style=\"text-align: right;\">\n",
              "      <th></th>\n",
              "      <th>0.00632</th>\n",
              "      <th>18.00</th>\n",
              "      <th>2.310</th>\n",
              "      <th>0</th>\n",
              "      <th>0.5380</th>\n",
              "      <th>6.5750</th>\n",
              "      <th>65.20</th>\n",
              "      <th>4.0900</th>\n",
              "      <th>1</th>\n",
              "      <th>296.0</th>\n",
              "      <th>15.30 396.90</th>\n",
              "      <th>4.98</th>\n",
              "      <th>24.00</th>\n",
              "    </tr>\n",
              "  </thead>\n",
              "  <tbody>\n",
              "    <tr>\n",
              "      <th>0</th>\n",
              "      <td>0.02731</td>\n",
              "      <td>0.0</td>\n",
              "      <td>7.07</td>\n",
              "      <td>0</td>\n",
              "      <td>0.469</td>\n",
              "      <td>6.421</td>\n",
              "      <td>78.9</td>\n",
              "      <td>4.9671</td>\n",
              "      <td>2</td>\n",
              "      <td>242.0</td>\n",
              "      <td>17.80 396.90</td>\n",
              "      <td>9.14</td>\n",
              "      <td>21.6</td>\n",
              "    </tr>\n",
              "    <tr>\n",
              "      <th>1</th>\n",
              "      <td>0.02729</td>\n",
              "      <td>0.0</td>\n",
              "      <td>7.07</td>\n",
              "      <td>0</td>\n",
              "      <td>0.469</td>\n",
              "      <td>7.185</td>\n",
              "      <td>61.1</td>\n",
              "      <td>4.9671</td>\n",
              "      <td>2</td>\n",
              "      <td>242.0</td>\n",
              "      <td>17.80 392.83</td>\n",
              "      <td>4.03</td>\n",
              "      <td>34.7</td>\n",
              "    </tr>\n",
              "    <tr>\n",
              "      <th>2</th>\n",
              "      <td>0.03237</td>\n",
              "      <td>0.0</td>\n",
              "      <td>2.18</td>\n",
              "      <td>0</td>\n",
              "      <td>0.458</td>\n",
              "      <td>6.998</td>\n",
              "      <td>45.8</td>\n",
              "      <td>6.0622</td>\n",
              "      <td>3</td>\n",
              "      <td>222.0</td>\n",
              "      <td>18.70 394.63</td>\n",
              "      <td>2.94</td>\n",
              "      <td>33.4</td>\n",
              "    </tr>\n",
              "    <tr>\n",
              "      <th>3</th>\n",
              "      <td>0.06905</td>\n",
              "      <td>0.0</td>\n",
              "      <td>2.18</td>\n",
              "      <td>0</td>\n",
              "      <td>0.458</td>\n",
              "      <td>7.147</td>\n",
              "      <td>54.2</td>\n",
              "      <td>6.0622</td>\n",
              "      <td>3</td>\n",
              "      <td>222.0</td>\n",
              "      <td>18.70 396.90</td>\n",
              "      <td>5.33</td>\n",
              "      <td>36.2</td>\n",
              "    </tr>\n",
              "    <tr>\n",
              "      <th>4</th>\n",
              "      <td>0.02985</td>\n",
              "      <td>0.0</td>\n",
              "      <td>2.18</td>\n",
              "      <td>0</td>\n",
              "      <td>0.458</td>\n",
              "      <td>6.430</td>\n",
              "      <td>58.7</td>\n",
              "      <td>6.0622</td>\n",
              "      <td>3</td>\n",
              "      <td>222.0</td>\n",
              "      <td>18.70 394.12</td>\n",
              "      <td>5.21</td>\n",
              "      <td>28.7</td>\n",
              "    </tr>\n",
              "  </tbody>\n",
              "</table>\n",
              "</div>"
            ],
            "text/plain": [
              "   0.00632  18.00  2.310  0  0.5380  6.5750  65.20  4.0900  1  296.0  \\\n",
              "0  0.02731    0.0   7.07  0   0.469   6.421   78.9  4.9671  2  242.0   \n",
              "1  0.02729    0.0   7.07  0   0.469   7.185   61.1  4.9671  2  242.0   \n",
              "2  0.03237    0.0   2.18  0   0.458   6.998   45.8  6.0622  3  222.0   \n",
              "3  0.06905    0.0   2.18  0   0.458   7.147   54.2  6.0622  3  222.0   \n",
              "4  0.02985    0.0   2.18  0   0.458   6.430   58.7  6.0622  3  222.0   \n",
              "\n",
              "   15.30 396.90  4.98  24.00  \n",
              "0  17.80 396.90  9.14   21.6  \n",
              "1  17.80 392.83  4.03   34.7  \n",
              "2  18.70 394.63  2.94   33.4  \n",
              "3  18.70 396.90  5.33   36.2  \n",
              "4  18.70 394.12  5.21   28.7  "
            ]
          },
          "metadata": {
            "tags": []
          },
          "execution_count": 3
        }
      ]
    },
    {
      "cell_type": "code",
      "metadata": {
        "id": "W24t_CsIOwe9"
      },
      "source": [
        "x = data.iloc[:,0:10].values\n",
        "y = data.iloc[:,12].values"
      ],
      "execution_count": null,
      "outputs": []
    },
    {
      "cell_type": "code",
      "metadata": {
        "id": "-BCZeylUOwfA"
      },
      "source": [
        "from sklearn.model_selection import train_test_split\n",
        "x_train,x_test,y_train,y_test = train_test_split(x,y,test_size=0.2)"
      ],
      "execution_count": null,
      "outputs": []
    },
    {
      "cell_type": "code",
      "metadata": {
        "id": "omm9-g1WOwfD",
        "outputId": "9ca896c0-58f7-45e4-b892-d62effe49eaa"
      },
      "source": [
        "from sklearn.linear_model import LinearRegression\n",
        "lin_reg =LinearRegression()\n",
        "lin_reg.fit(x_train,y_train)"
      ],
      "execution_count": null,
      "outputs": [
        {
          "output_type": "execute_result",
          "data": {
            "text/plain": [
              "LinearRegression()"
            ]
          },
          "metadata": {
            "tags": []
          },
          "execution_count": 48
        }
      ]
    },
    {
      "cell_type": "code",
      "metadata": {
        "id": "x8xNF02ZOwfG",
        "outputId": "1f84d620-2234-485a-c92d-6fa0905f67a8"
      },
      "source": [
        "y_pred = lin_reg.predict(x_test)\n",
        "y_pred"
      ],
      "execution_count": null,
      "outputs": [
        {
          "output_type": "execute_result",
          "data": {
            "text/plain": [
              "array([37.56776762, 17.98699666, 26.58686252, 10.52206433, 23.09082539,\n",
              "       21.58554325, 20.40198607, 23.26870123, 18.55046033, 17.94053433,\n",
              "       26.39382898, 17.39309931, 19.43211552, 22.34585875, 19.26923718,\n",
              "       26.96379561, 19.78056947, 17.95712655, 32.73427388, 28.26553844,\n",
              "       37.95335657, 21.72313321, 25.04280706, 24.72992893, 24.7341629 ,\n",
              "       23.39760579, 24.15640369, 24.93482378, 25.68370086, 29.28500598,\n",
              "        8.0133391 , 21.13995254, 18.42473786, 18.70155469, 18.03771733,\n",
              "       32.56137087, 27.45545957, 27.93741683, 33.01801318, 19.79953653,\n",
              "       15.77096171, 21.41680781, 26.53359751, 28.25248015, 24.50145107,\n",
              "       22.32273322, 24.97040162, 23.88044651, 21.62997651,  8.96346386,\n",
              "       20.61515177, 11.42058115, 36.9903772 , 14.52860079, 22.76483983,\n",
              "       29.24464672, 25.39557755, 28.75079411, 19.61948583, 14.3054416 ,\n",
              "       18.02952845, 19.08012681, 19.91259451, 22.98749713, 23.01682205,\n",
              "       22.79815452, 23.5497969 , 14.11472139, 16.72830736, 15.34851722,\n",
              "       11.26215799, 15.65247211, 36.88992369, 22.86552053, 20.72511723,\n",
              "       25.72532375, 23.02117722, 24.49910063, 17.43526383, 14.93093453,\n",
              "       22.16819656, 22.02953035, 23.13111107, 29.48672944, 21.9626509 ,\n",
              "       40.29592288,  9.45622697, 18.09164401, 17.145395  , 19.18548406,\n",
              "       18.64747022, 24.81266745, 25.56578224, 29.46093918, 31.53469032,\n",
              "       10.05306729, 10.39756731, 27.92092257, 25.4570394 , 33.9528184 ,\n",
              "       18.70876235])"
            ]
          },
          "metadata": {
            "tags": []
          },
          "execution_count": 50
        }
      ]
    },
    {
      "cell_type": "code",
      "metadata": {
        "id": "gMe0IzWXOwfK",
        "outputId": "567a3975-10c5-42c0-a74e-636373b45609"
      },
      "source": [
        "from sklearn.metrics import accuracy_score\n",
        "acc_score = lin_reg.score(x_test,y_test)\n",
        "\"Accuracy: {}%\".format(int(round(acc_score*100))) "
      ],
      "execution_count": null,
      "outputs": [
        {
          "output_type": "execute_result",
          "data": {
            "text/plain": [
              "'Accuracy: 63%'"
            ]
          },
          "metadata": {
            "tags": []
          },
          "execution_count": 52
        }
      ]
    },
    {
      "cell_type": "code",
      "metadata": {
        "id": "-cnZJQ2sOwfM"
      },
      "source": [
        ""
      ],
      "execution_count": null,
      "outputs": []
    },
    {
      "cell_type": "code",
      "metadata": {
        "id": "2e-0IDGgOwfO"
      },
      "source": [
        ""
      ],
      "execution_count": null,
      "outputs": []
    },
    {
      "cell_type": "code",
      "metadata": {
        "id": "WylcHetMOwfQ"
      },
      "source": [
        ""
      ],
      "execution_count": null,
      "outputs": []
    },
    {
      "cell_type": "code",
      "metadata": {
        "id": "hipCAC--OwfR"
      },
      "source": [
        ""
      ],
      "execution_count": null,
      "outputs": []
    }
  ]
}